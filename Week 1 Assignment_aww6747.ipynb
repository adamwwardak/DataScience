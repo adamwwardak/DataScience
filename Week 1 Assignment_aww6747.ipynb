{
 "cells": [
  {
   "cell_type": "markdown",
   "id": "5d605fbf-69d6-4c55-8ff3-e3490bead8af",
   "metadata": {},
   "source": [
    "Adam Wardak - aww6747\n",
    "\n",
    "Data Science Bootcamp\n",
    "\n",
    "Instructor Rohan Chopra\n",
    "\n",
    "Week 1 Assignment"
   ]
  },
  {
   "cell_type": "markdown",
   "id": "597ea0c8-8838-447e-b3db-e00bad838a37",
   "metadata": {},
   "source": [
    "Take-Home Assignment\n",
    "Solve the following problems.\n",
    "1. Display Fibonacci Series upto 10 terms"
   ]
  },
  {
   "cell_type": "code",
   "execution_count": 44,
   "id": "5af42afb-5989-473e-a672-5cfed402c4aa",
   "metadata": {},
   "outputs": [
    {
     "name": "stdout",
     "output_type": "stream",
     "text": [
      "0\n",
      "1\n",
      "1\n",
      "2\n",
      "3\n",
      "5\n",
      "8\n",
      "13\n",
      "21\n",
      "34\n"
     ]
    }
   ],
   "source": [
    "a, b = 0, 1\n",
    "for _ in range(10):\n",
    "    print (a)\n",
    "    a, b = b, a + b"
   ]
  },
  {
   "cell_type": "markdown",
   "id": "1440630f-fc7e-46c4-ae17-8ad3e4074b71",
   "metadata": {},
   "source": [
    "2. Display numbers at the odd indices of a list"
   ]
  },
  {
   "cell_type": "code",
   "execution_count": 49,
   "id": "7df7032d-fa0c-4b93-9905-e20b0a7de014",
   "metadata": {},
   "outputs": [
    {
     "name": "stdout",
     "output_type": "stream",
     "text": [
      "elephant\n",
      "zebra\n",
      "None\n"
     ]
    }
   ],
   "source": [
    "animals=['tiger', 'elephant', 'monkey', 'zebra', 'panther']\n",
    "\n",
    "def odd(x):\n",
    "    for i, j in enumerate(x):\n",
    "        if i % 2 != 0:\n",
    "            print(j)\n",
    "\n",
    "print(odd(animals))"
   ]
  },
  {
   "cell_type": "markdown",
   "id": "57a75bf7-414b-4b53-bb85-11479069a922",
   "metadata": {},
   "source": [
    "3. Your task is to count the number of different words in this text: string =\n",
    "\"I have provided this text to provide tips on creating interesting paragraphs.\n",
    "First, start with a clear topic sentence that introduces the main idea.\n",
    "Then, support the topic sentence with specific details, examples, and evidence.\n",
    "Vary the sentence length and structure to keep the reader engaged.\n",
    "Finally, end with a strong concluding sentence that summarizes the main points.\n",
    "Remember, practice makes perfect!\""
   ]
  },
  {
   "cell_type": "code",
   "execution_count": 50,
   "id": "09cdd874-878c-4cb4-ad53-1ceb1c01d309",
   "metadata": {},
   "outputs": [
    {
     "name": "stdout",
     "output_type": "stream",
     "text": [
      "The total number of words in the text passage is 62.\n",
      "The total number of unique words in the text passage is 47.\n"
     ]
    }
   ],
   "source": [
    "TextString = \"I have provided this text to provide tips on creating interesting paragraphs. First, start with a clear topic sentence that introduces the main idea. Then, support the topic sentence with specific details, examples, and evidence. Vary the sentence length and structure to keep the reader engaged. Finally, end with a strong concluding sentence that summarizes the main points. Remember, practice makes perfect!\"\n",
    "word_list = TextString.split(\" \")\n",
    "print(\"The total number of words in the text passage is \" + str(len(word_list)) + '.')\n",
    "unique_words = set(word_list)\n",
    "print(\"The total number of unique words in the text passage is \" + str(len(unique_words)) + '.')"
   ]
  },
  {
   "cell_type": "markdown",
   "id": "c706a639-6e11-439f-aea6-b2b6d9fdce26",
   "metadata": {},
   "source": [
    "4. Write a function count_vowels(word) that takes a word as an argument and returns the number of vowels in the word"
   ]
  },
  {
   "cell_type": "code",
   "execution_count": 51,
   "id": "052aa88f-0cf0-4712-9d40-f7b530d0f5ae",
   "metadata": {},
   "outputs": [
    {
     "name": "stdout",
     "output_type": "stream",
     "text": [
      "2\n"
     ]
    }
   ],
   "source": [
    "word = \"one\"\n",
    "\n",
    "def count_vowelsword(word):\n",
    "    vowels = 0\n",
    "    for i in word:\n",
    "        if i in 'aeiou':\n",
    "            vowels = vowels + 1\n",
    "    return vowels\n",
    "\n",
    "print(count_vowelsword(word))"
   ]
  },
  {
   "cell_type": "markdown",
   "id": "48271296-4c65-4d1a-aeeb-154cc2c75576",
   "metadata": {},
   "source": [
    "5. Iterate through the following list of animals and print each one in all caps.\n",
    "animals=['tiger', 'elephant', 'monkey', 'zebra', 'panther']"
   ]
  },
  {
   "cell_type": "code",
   "execution_count": 52,
   "id": "68dfb9a4-61be-4512-96ed-b863d2a74db3",
   "metadata": {},
   "outputs": [
    {
     "name": "stdout",
     "output_type": "stream",
     "text": [
      "TIGER\n",
      "\n",
      "ELEPHANT\n",
      "\n",
      "MONKEY\n",
      "\n",
      "ZEBRA\n",
      "\n",
      "PANTHER\n",
      "\n"
     ]
    }
   ],
   "source": [
    "animals=['tiger', 'elephant', 'monkey', 'zebra', 'panther']\n",
    "for i in animals:\n",
    "    for j in i:\n",
    "        print(chr(ord(j) - 32), end='')\n",
    "    print('\\n')"
   ]
  },
  {
   "cell_type": "markdown",
   "id": "d138bbb6-c97e-4e51-bd2c-6b7cd63b52aa",
   "metadata": {},
   "source": [
    "6. Write a program that iterates from 1 to 20, printing each number and whether it's odd or even."
   ]
  },
  {
   "cell_type": "code",
   "execution_count": 53,
   "id": "d1413d59-9c70-4e22-83ee-b4ee1016da28",
   "metadata": {},
   "outputs": [
    {
     "name": "stdout",
     "output_type": "stream",
     "text": [
      "1 is odd\n",
      "2 is even\n",
      "3 is odd\n",
      "4 is even\n",
      "5 is odd\n",
      "6 is even\n",
      "7 is odd\n",
      "8 is even\n",
      "9 is odd\n",
      "10 is even\n",
      "11 is odd\n",
      "12 is even\n",
      "13 is odd\n",
      "14 is even\n",
      "15 is odd\n",
      "16 is even\n",
      "17 is odd\n",
      "18 is even\n",
      "19 is odd\n",
      "20 is even\n"
     ]
    }
   ],
   "source": [
    "for i in range(20):\n",
    "    print(str(i + 1) + \" is \", end='')\n",
    "    if i % 2 != 0:\n",
    "        print(\"even\")\n",
    "    else:\n",
    "        print(\"odd\")"
   ]
  },
  {
   "cell_type": "markdown",
   "id": "9be26e7c-df8d-49c5-b015-0b69fc828ebe",
   "metadata": {},
   "source": [
    "7. Write a function sum_of_integers(a, b) that takes two integers as input from the user and returns their sum."
   ]
  },
  {
   "cell_type": "code",
   "execution_count": 55,
   "id": "088394f2-9dcc-44b2-9d7c-5d56edf2c3c0",
   "metadata": {},
   "outputs": [
    {
     "name": "stdout",
     "output_type": "stream",
     "text": [
      "28\n"
     ]
    }
   ],
   "source": [
    "def sum_of_integers(a, b):\n",
    "    if isinstance(a, int) and isinstance(b, int):\n",
    "        return a + b\n",
    "    else:\n",
    "        print(\"Error: a or b is not an integer\")\n",
    "\n",
    "print(sum_of_integers(25, 3))"
   ]
  }
 ],
 "metadata": {
  "kernelspec": {
   "display_name": "base",
   "language": "python",
   "name": "python3"
  },
  "language_info": {
   "codemirror_mode": {
    "name": "ipython",
    "version": 3
   },
   "file_extension": ".py",
   "mimetype": "text/x-python",
   "name": "python",
   "nbconvert_exporter": "python",
   "pygments_lexer": "ipython3",
   "version": "3.12.7"
  }
 },
 "nbformat": 4,
 "nbformat_minor": 5
}
