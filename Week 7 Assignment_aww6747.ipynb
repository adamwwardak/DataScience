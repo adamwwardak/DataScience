{
 "cells": [
  {
   "cell_type": "markdown",
   "id": "5d605fbf-69d6-4c55-8ff3-e3490bead8af",
   "metadata": {},
   "source": [
    "Adam Wardak - aww6747\n",
    "\n",
    "Data Science Bootcamp\n",
    "\n",
    "Instructor Rohan Chopra\n",
    "\n",
    "Week 7 Assignment"
   ]
  },
  {
   "cell_type": "markdown",
   "id": "59e01fe9",
   "metadata": {},
   "source": [
    "1.⁠ ⁠How do you assess the statistical significance of an insight?"
   ]
  },
  {
   "cell_type": "markdown",
   "id": "37640926",
   "metadata": {},
   "source": [
    "Hypothesis testing is typically used to evaluate the statistical significance of an insight. It starts with a null hypothesis assuming no effect, then uses data to calculate a test statistic and p-value—the probability of observing such data if the null were true. If the p-value falls below a set threshold (e.g., 0.05), the null is rejected and the result is deemed significant. This helps prevent confirmation bias and guards against mistaking random patterns for real effects."
   ]
  },
  {
   "cell_type": "markdown",
   "id": "a61d3b27",
   "metadata": {},
   "source": [
    "2.⁠ ⁠What is the Central Limit Theorem? Explain it. Why is it important?"
   ]
  },
  {
   "cell_type": "markdown",
   "id": "8dea0f4a",
   "metadata": {},
   "source": [
    "The Central Limit Theorem states that, with a large enough sample size, the distribution of sample means will approximate a normal distribution—regardless of the population's shape—if samples are drawn independently and randomly. This fundamental principle enables us to apply statistical methods like confidence intervals and t-tests, even when the underlying population distribution is unknown or non-normal."
   ]
  },
  {
   "cell_type": "markdown",
   "id": "d8d37e85",
   "metadata": {},
   "source": [
    "3.⁠ ⁠What is the statistical power?"
   ]
  },
  {
   "cell_type": "markdown",
   "id": "8d258114",
   "metadata": {},
   "source": [
    "Statistical power is the probability of correctly rejecting a false null hypothesis—that is, detecting a true effect when it exists. Higher power reduces the risk of failing to detect a real effect. Power is influenced by sample size, effect size, data variability, and the significance level. In practice, aiming for at least 80% power helps ensure that significant findings likely reflect real differences or effects."
   ]
  },
  {
   "cell_type": "markdown",
   "id": "104fd1f8",
   "metadata": {},
   "source": [
    "4.⁠ ⁠How do you control for biases?"
   ]
  },
  {
   "cell_type": "markdown",
   "id": "6c4c70b0",
   "metadata": {},
   "source": [
    "Randomization—assigning units to treatment and control groups randomly—helps evenly distribute confounding factors. Other strategies like using control groups, blinding, and pre-registering hypotheses reduce biases such as confirmation bias and p-hacking."
   ]
  },
  {
   "cell_type": "markdown",
   "id": "b33a7f29",
   "metadata": {},
   "source": [
    "5.⁠ ⁠What are confounding variables?"
   ]
  },
  {
   "cell_type": "markdown",
   "id": "88db1ac9",
   "metadata": {},
   "source": [
    "Confounding variables are external factors that can affect the dependent variable, potentially distorting the relationship with the independent variable. For instance, in studying physical activity's impact on weight loss, ignoring diet may falsely attribute weight changes to exercise alone. Randomization helps control for confounders by evenly distributing them across groups, isolating the effect of the independent variable."
   ]
  },
  {
   "cell_type": "markdown",
   "id": "7c04b689",
   "metadata": {},
   "source": [
    "6.⁠ ⁠What is A/B testing?"
   ]
  },
  {
   "cell_type": "markdown",
   "id": "58af31aa",
   "metadata": {},
   "source": [
    "A/B testing is a controlled experiment where participants are randomly split into two groups to compare a control (A) and a variant (B). It isolates the impact of a specific change by minimizing external influences."
   ]
  },
  {
   "cell_type": "markdown",
   "id": "82122b51",
   "metadata": {},
   "source": [
    "7.⁠ ⁠What are confidence intervals?"
   ]
  },
  {
   "cell_type": "markdown",
   "id": "a78f6913",
   "metadata": {},
   "source": [
    "Confidence intervals give a range of plausible values for an unknown population parameter, based on sample data. A 95% confidence interval means that, across many samples, about 95% of the intervals would contain the true value."
   ]
  }
 ],
 "metadata": {
  "kernelspec": {
   "display_name": "base",
   "language": "python",
   "name": "python3"
  },
  "language_info": {
   "codemirror_mode": {
    "name": "ipython",
    "version": 3
   },
   "file_extension": ".py",
   "mimetype": "text/x-python",
   "name": "python",
   "nbconvert_exporter": "python",
   "pygments_lexer": "ipython3",
   "version": "3.12.7"
  }
 },
 "nbformat": 4,
 "nbformat_minor": 5
}
