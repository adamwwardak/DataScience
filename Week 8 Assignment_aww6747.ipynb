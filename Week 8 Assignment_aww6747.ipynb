{
 "cells": [
  {
   "cell_type": "markdown",
   "id": "5d605fbf-69d6-4c55-8ff3-e3490bead8af",
   "metadata": {},
   "source": [
    "Adam Wardak - aww6747\n",
    "\n",
    "Data Science Bootcamp\n",
    "\n",
    "Instructor Rohan Chopra\n",
    "\n",
    "Week 8 Assignment"
   ]
  },
  {
   "cell_type": "markdown",
   "id": "dd071990",
   "metadata": {},
   "source": [
    "Logistic Regression:"
   ]
  },
  {
   "cell_type": "markdown",
   "id": "288f6ff9",
   "metadata": {},
   "source": [
    "1. Try different thresholds for computing predictions. By default it is 0.5. Use predict_proba function to compute probabilities and then try custom thresholds and see their impact on Accuracy, Precision and Recall"
   ]
  },
  {
   "cell_type": "code",
   "execution_count": null,
   "id": "870ff7c2",
   "metadata": {},
   "outputs": [
    {
     "name": "stdout",
     "output_type": "stream",
     "text": [
      "Threshold: 0.3\n",
      "  Accuracy:  0.864\n",
      "  Precision: 0.720\n",
      "  Recall:    0.706\n",
      "\n",
      "Threshold: 0.5\n",
      "  Accuracy:  0.869\n",
      "  Precision: 0.897\n",
      "  Recall:    0.510\n",
      "\n",
      "Threshold: 0.7\n",
      "  Accuracy:  0.836\n",
      "  Precision: 1.000\n",
      "  Recall:    0.314\n",
      "\n"
     ]
    }
   ],
   "source": [
    "import pandas as pd\n",
    "import numpy as np\n",
    "from sklearn.linear_model import LogisticRegression\n",
    "from sklearn.metrics import accuracy_score, precision_score, recall_score\n",
    "\n",
    "glass = pd.read_csv('glass.csv')\n",
    "glass['household'] = glass.Type.map({1:0, 2:0, 3:0, 5:1, 6:1, 7:1})\n",
    "glass.sort_values(by='Al', inplace=True)\n",
    "\n",
    "X = np.array(glass.Al).reshape(-1, 1)\n",
    "y = glass.household\n",
    "\n",
    "logreg = LogisticRegression()\n",
    "logreg.fit(X, y)\n",
    "\n",
    "probs = logreg.predict_proba(X)[:, 1]\n",
    "\n",
    "thresholds = [0.3, 0.5, 0.7]\n",
    "for thresh in thresholds:\n",
    "    preds = (probs >= thresh).astype(int)\n",
    "    acc = accuracy_score(y, preds)\n",
    "    prec = precision_score(y, preds)\n",
    "    rec = recall_score(y, preds)\n",
    "    print(f\"Threshold: {thresh}\")\n",
    "    print(f\"  Accuracy:  {acc:.3f}\")\n",
    "    print(f\"  Precision: {prec:.3f}\")\n",
    "    print(f\"  Recall:    {rec:.3f}\\n\")"
   ]
  },
  {
   "cell_type": "markdown",
   "id": "be4bb890",
   "metadata": {},
   "source": [
    "2. Do the same analysis for other columns"
   ]
  },
  {
   "cell_type": "code",
   "execution_count": 8,
   "id": "830e0d0c",
   "metadata": {},
   "outputs": [
    {
     "name": "stdout",
     "output_type": "stream",
     "text": [
      "Threshold: 0.3\n",
      "  Accuracy:  0.879\n",
      "  Precision: 0.931\n",
      "  Recall:    0.529\n",
      "\n",
      "Threshold: 0.5\n",
      "  Accuracy:  0.836\n",
      "  Precision: 0.900\n",
      "  Recall:    0.353\n",
      "\n",
      "Threshold: 0.7\n",
      "  Accuracy:  0.827\n",
      "  Precision: 0.938\n",
      "  Recall:    0.294\n",
      "\n"
     ]
    }
   ],
   "source": [
    "feature = 'Ba'\n",
    "\n",
    "glass.sort_values(by=feature, inplace=True)\n",
    "\n",
    "X = np.array(glass[feature]).reshape(-1, 1)\n",
    "y = glass['household']\n",
    "\n",
    "logreg.fit(X, y)\n",
    "\n",
    "probs = logreg.predict_proba(X)[:, 1]\n",
    "\n",
    "thresholds = [0.3, 0.5, 0.7]\n",
    "for thresh in thresholds:\n",
    "    preds = (probs >= thresh).astype(int)\n",
    "    acc = accuracy_score(y, preds)\n",
    "    prec = precision_score(y, preds)\n",
    "    rec = recall_score(y, preds)\n",
    "    print(f\"Threshold: {thresh}\")\n",
    "    print(f\"  Accuracy:  {acc:.3f}\")\n",
    "    print(f\"  Precision: {prec:.3f}\")\n",
    "    print(f\"  Recall:    {rec:.3f}\\n\")\n"
   ]
  },
  {
   "cell_type": "markdown",
   "id": "8ea28183",
   "metadata": {},
   "source": [
    "3. Fit a Logistic Regression Model on all features. Remember to preprocess data(eg. normalization and one hot encoding)"
   ]
  },
  {
   "cell_type": "code",
   "execution_count": 10,
   "id": "d4cfe3b1",
   "metadata": {},
   "outputs": [
    {
     "name": "stdout",
     "output_type": "stream",
     "text": [
      "Threshold: 0.3\n",
      "  Accuracy:  0.949\n",
      "  Precision: 0.885\n",
      "  Recall:    0.902\n",
      "\n",
      "Threshold: 0.5\n",
      "  Accuracy:  0.944\n",
      "  Precision: 0.898\n",
      "  Recall:    0.863\n",
      "\n",
      "Threshold: 0.7\n",
      "  Accuracy:  0.930\n",
      "  Precision: 0.974\n",
      "  Recall:    0.725\n",
      "\n"
     ]
    }
   ],
   "source": [
    "from sklearn.preprocessing import StandardScaler\n",
    "\n",
    "X = glass.drop(columns=['Type', 'household'])\n",
    "y = glass['household']\n",
    "\n",
    "scaler = StandardScaler()\n",
    "X_scaled = scaler.fit_transform(X)\n",
    "\n",
    "logreg.fit(X_scaled, y)\n",
    "\n",
    "probs = logreg.predict_proba(X_scaled)[:, 1]\n",
    "\n",
    "thresholds = [0.3, 0.5, 0.7]\n",
    "for thresh in thresholds:\n",
    "    preds = (probs >= thresh).astype(int)\n",
    "    acc = accuracy_score(y, preds)\n",
    "    prec = precision_score(y, preds)\n",
    "    rec = recall_score(y, preds)\n",
    "    print(f\"Threshold: {thresh}\")\n",
    "    print(f\"  Accuracy:  {acc:.3f}\")\n",
    "    print(f\"  Precision: {prec:.3f}\")\n",
    "    print(f\"  Recall:    {rec:.3f}\\n\")\n"
   ]
  },
  {
   "cell_type": "markdown",
   "id": "99921ad5",
   "metadata": {},
   "source": [
    "4. Plot ROC Curves for each model"
   ]
  },
  {
   "cell_type": "code",
   "execution_count": 13,
   "id": "40d13a77",
   "metadata": {},
   "outputs": [
    {
     "name": "stderr",
     "output_type": "stream",
     "text": [
      "/var/folders/07/tzj2_3qs0vz6f201sm62ly7m0000gn/T/ipykernel_26750/76830736.py:10: UserWarning: No artists with labels found to put in legend.  Note that artists whose label start with an underscore are ignored when legend() is called with no argument.\n",
      "  plt.legend(loc='lower right')\n"
     ]
    },
    {
     "data": {
      "image/png": "[encoded data removed]",
      "text/plain": [
       "<Figure size 800x600 with 1 Axes>"
      ]
     },
     "metadata": {},
     "output_type": "display_data"
    }
   ],
   "source": [
    "from sklearn.metrics import roc_curve, roc_auc_score\n",
    "import matplotlib.pyplot as plt\n",
    "\n",
    "fpr, tpr, roc_thresholds = roc_curve(y, probs)\n",
    "auc = roc_auc_score(y, probs)\n",
    "\n",
    "plt.figure(figsize=(8, 6))\n",
    "plt.plot(fpr, tpr)\n",
    "plt.plot([0, 1], [0, 1], 'k--')\n",
    "plt.legend(loc='lower right')\n",
    "plt.grid(True)\n",
    "plt.show()"
   ]
  }
 ],
 "metadata": {
  "kernelspec": {
   "display_name": "base",
   "language": "python",
   "name": "python3"
  },
  "language_info": {
   "codemirror_mode": {
    "name": "ipython",
    "version": 3
   },
   "file_extension": ".py",
   "mimetype": "text/x-python",
   "name": "python",
   "nbconvert_exporter": "python",
   "pygments_lexer": "ipython3",
   "version": "3.12.7"
  }
 },
 "nbformat": 4,
 "nbformat_minor": 5
}
